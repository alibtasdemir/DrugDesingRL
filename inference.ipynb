{
 "cells": [
  {
   "cell_type": "code",
   "id": "initial_id",
   "metadata": {
    "collapsed": true,
    "ExecuteTime": {
     "end_time": "2024-06-05T16:03:01.042076Z",
     "start_time": "2024-06-05T16:02:59.511160Z"
    }
   },
   "source": [
    "from agent import QEDRewardMolecule, Agent\n",
    "import numpy as np\n",
    "import random\n",
    "import torch\n",
    "import argparse\n",
    "\n",
    "class Args(argparse.Namespace):\n",
    "    start_molecule = None\n",
    "    epsilon_start = 1.0\n",
    "    epsilon_end = 0.01\n",
    "    epsilon_decay = 2000\n",
    "    optimizer = \"Adam\"\n",
    "    polyak = 0.995\n",
    "    atom_types = [\"C\", \"O\", \"N\"]\n",
    "    max_steps_per_episode = 30\n",
    "    allow_removal = True\n",
    "    allow_no_modification = True\n",
    "    allow_bonds_between_rings = False\n",
    "    allowed_ring_sizes = [3, 4, 5, 6]\n",
    "    replay_buffer_size = 10_000\n",
    "    learning_rate = 1e-4\n",
    "    gamma = 0.95\n",
    "    fingerprint_radius = 3\n",
    "    fingerprint_length = 1024\n",
    "    discount_factor = 0.9\n",
    "    seed=9\n",
    "    model_path = \"dqn_weights.pth\"\n",
    "\n",
    "config = Args()\n",
    "np.random.seed(config.seed)\n",
    "random.seed(config.seed)\n",
    "torch.manual_seed(config.seed)\n",
    "torch.cuda.manual_seed(config.seed)\n",
    "\n",
    "device = torch.device(\"cuda\" if torch.cuda.is_available() else \"cpu\")\n",
    "\n",
    "environment = QEDRewardMolecule(\n",
    "            discount_factor=config.discount_factor,\n",
    "            atom_types=set(config.atom_types),\n",
    "            init_mol=config.start_molecule,\n",
    "            allow_removal=config.allow_removal,\n",
    "            allow_no_modification=config.allow_no_modification,\n",
    "            allow_bonds_between_rings=config.allow_bonds_between_rings,\n",
    "            allowed_ring_sizes=set(config.allowed_ring_sizes),\n",
    "            max_steps=config.max_steps_per_episode,\n",
    "            record_path=True\n",
    "        )\n",
    "\n",
    "agent = Agent(\n",
    "            config.fingerprint_length + 1,\n",
    "            1,\n",
    "            device,\n",
    "            config,\n",
    "            pretrained=True\n",
    "        )"
   ],
   "outputs": [],
   "execution_count": 1
  },
  {
   "metadata": {
    "ExecuteTime": {
     "end_time": "2024-06-05T16:07:51.598343Z",
     "start_time": "2024-06-05T16:07:51.596731Z"
    }
   },
   "cell_type": "code",
   "source": "import utils",
   "id": "c995d7fdeed15c9c",
   "outputs": [],
   "execution_count": 10
  },
  {
   "metadata": {
    "ExecuteTime": {
     "end_time": "2024-06-05T16:06:36.151342Z",
     "start_time": "2024-06-05T16:06:35.754102Z"
    }
   },
   "cell_type": "code",
   "source": [
    "environment.initialize()\n",
    "done = False\n",
    "while not done:\n",
    "    steps_left = config.max_steps_per_episode - environment.num_steps_taken\n",
    "    valid_actions = list(environment.get_valid_actions())\n",
    "    observations = np.vstack(\n",
    "            [\n",
    "                np.append(\n",
    "                    utils.get_fingerprint(act, config.fingerprint_length, config.fingerprint_radius),\n",
    "                    steps_left,\n",
    "                )\n",
    "                for act in valid_actions\n",
    "            ]\n",
    "        )\n",
    "    observations_tensor = torch.Tensor(observations)\n",
    "\n",
    "    act_index = agent.get_action(observations_tensor, 1.0)\n",
    "    action = valid_actions[act_index]\n",
    "\n",
    "    result = environment.step(action)\n",
    "    next_state, reward, done = result"
   ],
   "id": "58879e6b46ce0fb0",
   "outputs": [],
   "execution_count": 4
  },
  {
   "metadata": {
    "ExecuteTime": {
     "end_time": "2024-06-05T16:52:19.926510Z",
     "start_time": "2024-06-05T16:52:19.809344Z"
    }
   },
   "cell_type": "code",
   "source": [
    "from rdkit import Chem\n",
    "from rdkit.Chem import QED\n",
    "\n",
    "frames = []\n",
    "for i, mol in enumerate(environment.get_path()):\n",
    "    if i == 0:\n",
    "        continue\n",
    "    \n",
    "    reward = QED.qed(Chem.MolFromSmiles(mol))\n",
    "    img = environment.visualize_state(mol, legend=f\"Step: {i}\\nQED: {round(reward, 3)}\")\n",
    "    frames.append(img)"
   ],
   "id": "4c1d9222ab2690b0",
   "outputs": [],
   "execution_count": 35
  },
  {
   "metadata": {
    "ExecuteTime": {
     "end_time": "2024-06-05T16:51:59.203313Z",
     "start_time": "2024-06-05T16:51:58.985399Z"
    }
   },
   "cell_type": "code",
   "source": [
    "def make_gif(frames):\n",
    "    frame_one = frames[0]\n",
    "    frame_one.save(\"download.gif\", format=\"GIF\", append_images=frames,\n",
    "               save_all=True, duration=1000, loop=1)\n",
    "\n",
    "make_gif(frames)"
   ],
   "id": "28637ae8d811a251",
   "outputs": [],
   "execution_count": 34
  },
  {
   "metadata": {},
   "cell_type": "code",
   "outputs": [],
   "execution_count": null,
   "source": "",
   "id": "b30e7b04a5f7134f"
  },
  {
   "metadata": {
    "ExecuteTime": {
     "end_time": "2024-06-05T16:07:11.761361Z",
     "start_time": "2024-06-05T16:07:11.758603Z"
    }
   },
   "cell_type": "code",
   "source": "environment.get_path()",
   "id": "137de48b7d1a0fbf",
   "outputs": [
    {
     "data": {
      "text/plain": [
       "[None,\n",
       " 'O',\n",
       " 'OO',\n",
       " 'O',\n",
       " 'O',\n",
       " 'O=O',\n",
       " 'OO',\n",
       " 'O',\n",
       " 'O',\n",
       " 'OO',\n",
       " 'O',\n",
       " 'O',\n",
       " 'O=O',\n",
       " 'OO',\n",
       " 'COO',\n",
       " 'CO',\n",
       " 'N#CO',\n",
       " 'COC#N',\n",
       " 'N#COCN',\n",
       " 'N#COCN',\n",
       " 'N#COC(=N)N',\n",
       " 'N=C(N)OCN',\n",
       " 'N=C(N)OC(N)N',\n",
       " 'CNC(N)OC(=N)N',\n",
       " 'C=NC(N)OC(=N)N',\n",
       " 'C=NC(N)OC=N',\n",
       " 'NC1N=CN=CO1',\n",
       " 'N=CN=COCN',\n",
       " 'CC(=N)N=COCN',\n",
       " 'C=NCOC=NC(C)=N',\n",
       " 'C=NCOCNC(C)=N']"
      ]
     },
     "execution_count": 8,
     "metadata": {},
     "output_type": "execute_result"
    }
   ],
   "execution_count": 8
  },
  {
   "metadata": {
    "ExecuteTime": {
     "end_time": "2024-06-05T16:07:00.891184Z",
     "start_time": "2024-06-05T16:07:00.844628Z"
    }
   },
   "cell_type": "code",
   "source": "environment.visualize_state()",
   "id": "fa51476d0d87e96c",
   "outputs": [
    {
     "data": {
      "text/plain": [
       "<PIL.PngImagePlugin.PngImageFile image mode=RGB size=300x300>"
      ],
      "image/png": "[encoded data removed]",
      "image/jpeg": "[encoded data removed]"
     },
     "execution_count": 7,
     "metadata": {},
     "output_type": "execute_result"
    }
   ],
   "execution_count": 7
  },
  {
   "metadata": {
    "ExecuteTime": {
     "end_time": "2024-06-05T18:44:39.777140Z",
     "start_time": "2024-06-05T18:44:39.768393Z"
    }
   },
   "cell_type": "code",
   "source": [
    "import matplotlib.pyplot as plt\n",
    "import seaborn as sns\n",
    "import pandas as pd\n",
    "\n",
    "loss_df = pd.read_csv(\"dqn_run_loss.csv\")\n",
    "loss_df = loss_df[[\"Step\", \"run_1k_episodes_mstep30 - episode_loss\"]]\n",
    "loss_df.columns = [\"Step\", \"Loss\"]\n",
    "\n",
    "loss_df[\"Episode\"] = np.arange(len(loss_df))\n",
    "#run_info_df = pd.read_csv(\"dqn_run2.csv\")\n",
    "#run_info_df = run_info_df[98:]"
   ],
   "id": "2f499f1a195df1c2",
   "outputs": [],
   "execution_count": 45
  },
  {
   "metadata": {
    "ExecuteTime": {
     "end_time": "2024-06-05T18:44:43.090306Z",
     "start_time": "2024-06-05T18:44:43.086554Z"
    }
   },
   "cell_type": "code",
   "source": "loss_df",
   "id": "e84dafab5cb25f76",
   "outputs": [
    {
     "data": {
      "text/plain": [
       "      Step      Loss  Episode\n",
       "0      159  0.009223        0\n",
       "1      193  0.005164        1\n",
       "2      227  0.008501        2\n",
       "3      261  0.005891        3\n",
       "4      295  0.004767        4\n",
       "..     ...       ...      ...\n",
       "991  33853  0.001448      991\n",
       "992  33887  0.001788      992\n",
       "993  33921  0.002173      993\n",
       "994  33955  0.001400      994\n",
       "995  33989  0.001049      995\n",
       "\n",
       "[996 rows x 3 columns]"
      ],
      "text/html": [
       "<div>\n",
       "<style scoped>\n",
       "    .dataframe tbody tr th:only-of-type {\n",
       "        vertical-align: middle;\n",
       "    }\n",
       "\n",
       "    .dataframe tbody tr th {\n",
       "        vertical-align: top;\n",
       "    }\n",
       "\n",
       "    .dataframe thead th {\n",
       "        text-align: right;\n",
       "    }\n",
       "</style>\n",
       "<table border=\"1\" class=\"dataframe\">\n",
       "  <thead>\n",
       "    <tr style=\"text-align: right;\">\n",
       "      <th></th>\n",
       "      <th>Step</th>\n",
       "      <th>Loss</th>\n",
       "      <th>Episode</th>\n",
       "    </tr>\n",
       "  </thead>\n",
       "  <tbody>\n",
       "    <tr>\n",
       "      <th>0</th>\n",
       "      <td>159</td>\n",
       "      <td>0.009223</td>\n",
       "      <td>0</td>\n",
       "    </tr>\n",
       "    <tr>\n",
       "      <th>1</th>\n",
       "      <td>193</td>\n",
       "      <td>0.005164</td>\n",
       "      <td>1</td>\n",
       "    </tr>\n",
       "    <tr>\n",
       "      <th>2</th>\n",
       "      <td>227</td>\n",
       "      <td>0.008501</td>\n",
       "      <td>2</td>\n",
       "    </tr>\n",
       "    <tr>\n",
       "      <th>3</th>\n",
       "      <td>261</td>\n",
       "      <td>0.005891</td>\n",
       "      <td>3</td>\n",
       "    </tr>\n",
       "    <tr>\n",
       "      <th>4</th>\n",
       "      <td>295</td>\n",
       "      <td>0.004767</td>\n",
       "      <td>4</td>\n",
       "    </tr>\n",
       "    <tr>\n",
       "      <th>...</th>\n",
       "      <td>...</td>\n",
       "      <td>...</td>\n",
       "      <td>...</td>\n",
       "    </tr>\n",
       "    <tr>\n",
       "      <th>991</th>\n",
       "      <td>33853</td>\n",
       "      <td>0.001448</td>\n",
       "      <td>991</td>\n",
       "    </tr>\n",
       "    <tr>\n",
       "      <th>992</th>\n",
       "      <td>33887</td>\n",
       "      <td>0.001788</td>\n",
       "      <td>992</td>\n",
       "    </tr>\n",
       "    <tr>\n",
       "      <th>993</th>\n",
       "      <td>33921</td>\n",
       "      <td>0.002173</td>\n",
       "      <td>993</td>\n",
       "    </tr>\n",
       "    <tr>\n",
       "      <th>994</th>\n",
       "      <td>33955</td>\n",
       "      <td>0.001400</td>\n",
       "      <td>994</td>\n",
       "    </tr>\n",
       "    <tr>\n",
       "      <th>995</th>\n",
       "      <td>33989</td>\n",
       "      <td>0.001049</td>\n",
       "      <td>995</td>\n",
       "    </tr>\n",
       "  </tbody>\n",
       "</table>\n",
       "<p>996 rows × 3 columns</p>\n",
       "</div>"
      ]
     },
     "execution_count": 46,
     "metadata": {},
     "output_type": "execute_result"
    }
   ],
   "execution_count": 46
  },
  {
   "metadata": {
    "ExecuteTime": {
     "end_time": "2024-06-05T18:45:15.406465Z",
     "start_time": "2024-06-05T18:45:15.267679Z"
    }
   },
   "cell_type": "code",
   "source": [
    "sns.lineplot(data=loss_df, x=\"Episode\", y=\"Loss\")\n",
    "plt.title(\"Episode Loss\")\n",
    "plt.ylabel(\"Episode Loss\")\n",
    "plt.xlabel(\"Episode\")\n",
    "plt.savefig(\"loss.png\")\n",
    "# plt.show()"
   ],
   "id": "9773f15b5eb8a3b8",
   "outputs": [
    {
     "data": {
      "text/plain": [
       "<Figure size 640x480 with 1 Axes>"
      ],
      "image/png": "[encoded data removed]"
     },
     "metadata": {},
     "output_type": "display_data"
    }
   ],
   "execution_count": 48
  },
  {
   "metadata": {
    "ExecuteTime": {
     "end_time": "2024-06-05T19:10:53.162296Z",
     "start_time": "2024-06-05T19:10:53.154589Z"
    }
   },
   "cell_type": "code",
   "source": [
    "reward_df = pd.read_csv(\"dqn_run_valreward.csv\")\n",
    "reward_df"
   ],
   "id": "1f41e8fc82e9eeb",
   "outputs": [
    {
     "data": {
      "text/plain": [
       "      Step  run_1k_episodes_mstep30 - val-reward  \\\n",
       "0       30                              0.416793   \n",
       "1       62                              0.156372   \n",
       "2       94                              0.211495   \n",
       "3      126                              0.353846   \n",
       "4      160                              0.233021   \n",
       "..     ...                                   ...   \n",
       "995  33854                              0.546518   \n",
       "996  33888                              0.275927   \n",
       "997  33922                              0.616222   \n",
       "998  33956                              0.402319   \n",
       "999  33990                              0.522136   \n",
       "\n",
       "     run_1k_episodes_mstep30 - val-reward__MIN  \\\n",
       "0                                     0.416793   \n",
       "1                                     0.156372   \n",
       "2                                     0.211495   \n",
       "3                                     0.353846   \n",
       "4                                     0.233021   \n",
       "..                                         ...   \n",
       "995                                   0.546518   \n",
       "996                                   0.275927   \n",
       "997                                   0.616222   \n",
       "998                                   0.402319   \n",
       "999                                   0.522136   \n",
       "\n",
       "     run_1k_episodes_mstep30 - val-reward__MAX  \n",
       "0                                     0.416793  \n",
       "1                                     0.156372  \n",
       "2                                     0.211495  \n",
       "3                                     0.353846  \n",
       "4                                     0.233021  \n",
       "..                                         ...  \n",
       "995                                   0.546518  \n",
       "996                                   0.275927  \n",
       "997                                   0.616222  \n",
       "998                                   0.402319  \n",
       "999                                   0.522136  \n",
       "\n",
       "[1000 rows x 4 columns]"
      ],
      "text/html": [
       "<div>\n",
       "<style scoped>\n",
       "    .dataframe tbody tr th:only-of-type {\n",
       "        vertical-align: middle;\n",
       "    }\n",
       "\n",
       "    .dataframe tbody tr th {\n",
       "        vertical-align: top;\n",
       "    }\n",
       "\n",
       "    .dataframe thead th {\n",
       "        text-align: right;\n",
       "    }\n",
       "</style>\n",
       "<table border=\"1\" class=\"dataframe\">\n",
       "  <thead>\n",
       "    <tr style=\"text-align: right;\">\n",
       "      <th></th>\n",
       "      <th>Step</th>\n",
       "      <th>run_1k_episodes_mstep30 - val-reward</th>\n",
       "      <th>run_1k_episodes_mstep30 - val-reward__MIN</th>\n",
       "      <th>run_1k_episodes_mstep30 - val-reward__MAX</th>\n",
       "    </tr>\n",
       "  </thead>\n",
       "  <tbody>\n",
       "    <tr>\n",
       "      <th>0</th>\n",
       "      <td>30</td>\n",
       "      <td>0.416793</td>\n",
       "      <td>0.416793</td>\n",
       "      <td>0.416793</td>\n",
       "    </tr>\n",
       "    <tr>\n",
       "      <th>1</th>\n",
       "      <td>62</td>\n",
       "      <td>0.156372</td>\n",
       "      <td>0.156372</td>\n",
       "      <td>0.156372</td>\n",
       "    </tr>\n",
       "    <tr>\n",
       "      <th>2</th>\n",
       "      <td>94</td>\n",
       "      <td>0.211495</td>\n",
       "      <td>0.211495</td>\n",
       "      <td>0.211495</td>\n",
       "    </tr>\n",
       "    <tr>\n",
       "      <th>3</th>\n",
       "      <td>126</td>\n",
       "      <td>0.353846</td>\n",
       "      <td>0.353846</td>\n",
       "      <td>0.353846</td>\n",
       "    </tr>\n",
       "    <tr>\n",
       "      <th>4</th>\n",
       "      <td>160</td>\n",
       "      <td>0.233021</td>\n",
       "      <td>0.233021</td>\n",
       "      <td>0.233021</td>\n",
       "    </tr>\n",
       "    <tr>\n",
       "      <th>...</th>\n",
       "      <td>...</td>\n",
       "      <td>...</td>\n",
       "      <td>...</td>\n",
       "      <td>...</td>\n",
       "    </tr>\n",
       "    <tr>\n",
       "      <th>995</th>\n",
       "      <td>33854</td>\n",
       "      <td>0.546518</td>\n",
       "      <td>0.546518</td>\n",
       "      <td>0.546518</td>\n",
       "    </tr>\n",
       "    <tr>\n",
       "      <th>996</th>\n",
       "      <td>33888</td>\n",
       "      <td>0.275927</td>\n",
       "      <td>0.275927</td>\n",
       "      <td>0.275927</td>\n",
       "    </tr>\n",
       "    <tr>\n",
       "      <th>997</th>\n",
       "      <td>33922</td>\n",
       "      <td>0.616222</td>\n",
       "      <td>0.616222</td>\n",
       "      <td>0.616222</td>\n",
       "    </tr>\n",
       "    <tr>\n",
       "      <th>998</th>\n",
       "      <td>33956</td>\n",
       "      <td>0.402319</td>\n",
       "      <td>0.402319</td>\n",
       "      <td>0.402319</td>\n",
       "    </tr>\n",
       "    <tr>\n",
       "      <th>999</th>\n",
       "      <td>33990</td>\n",
       "      <td>0.522136</td>\n",
       "      <td>0.522136</td>\n",
       "      <td>0.522136</td>\n",
       "    </tr>\n",
       "  </tbody>\n",
       "</table>\n",
       "<p>1000 rows × 4 columns</p>\n",
       "</div>"
      ]
     },
     "execution_count": 59,
     "metadata": {},
     "output_type": "execute_result"
    }
   ],
   "execution_count": 59
  },
  {
   "metadata": {
    "ExecuteTime": {
     "end_time": "2024-06-05T19:10:53.683699Z",
     "start_time": "2024-06-05T19:10:53.677812Z"
    }
   },
   "cell_type": "code",
   "source": [
    "reward_df = pd.read_csv(\"dqn_run_valreward.csv\")\n",
    "reward_df = reward_df[[\"Step\", \"run_1k_episodes_mstep30 - val-reward\"]]\n",
    "reward_df.columns = [\"Step\", \"Reward\"]\n",
    "reward_df[\"Episode\"] = np.arange(len(reward_df))\n",
    "reward_df"
   ],
   "id": "7a6b3a48098a8f01",
   "outputs": [
    {
     "data": {
      "text/plain": [
       "      Step    Reward  Episode\n",
       "0       30  0.416793        0\n",
       "1       62  0.156372        1\n",
       "2       94  0.211495        2\n",
       "3      126  0.353846        3\n",
       "4      160  0.233021        4\n",
       "..     ...       ...      ...\n",
       "995  33854  0.546518      995\n",
       "996  33888  0.275927      996\n",
       "997  33922  0.616222      997\n",
       "998  33956  0.402319      998\n",
       "999  33990  0.522136      999\n",
       "\n",
       "[1000 rows x 3 columns]"
      ],
      "text/html": [
       "<div>\n",
       "<style scoped>\n",
       "    .dataframe tbody tr th:only-of-type {\n",
       "        vertical-align: middle;\n",
       "    }\n",
       "\n",
       "    .dataframe tbody tr th {\n",
       "        vertical-align: top;\n",
       "    }\n",
       "\n",
       "    .dataframe thead th {\n",
       "        text-align: right;\n",
       "    }\n",
       "</style>\n",
       "<table border=\"1\" class=\"dataframe\">\n",
       "  <thead>\n",
       "    <tr style=\"text-align: right;\">\n",
       "      <th></th>\n",
       "      <th>Step</th>\n",
       "      <th>Reward</th>\n",
       "      <th>Episode</th>\n",
       "    </tr>\n",
       "  </thead>\n",
       "  <tbody>\n",
       "    <tr>\n",
       "      <th>0</th>\n",
       "      <td>30</td>\n",
       "      <td>0.416793</td>\n",
       "      <td>0</td>\n",
       "    </tr>\n",
       "    <tr>\n",
       "      <th>1</th>\n",
       "      <td>62</td>\n",
       "      <td>0.156372</td>\n",
       "      <td>1</td>\n",
       "    </tr>\n",
       "    <tr>\n",
       "      <th>2</th>\n",
       "      <td>94</td>\n",
       "      <td>0.211495</td>\n",
       "      <td>2</td>\n",
       "    </tr>\n",
       "    <tr>\n",
       "      <th>3</th>\n",
       "      <td>126</td>\n",
       "      <td>0.353846</td>\n",
       "      <td>3</td>\n",
       "    </tr>\n",
       "    <tr>\n",
       "      <th>4</th>\n",
       "      <td>160</td>\n",
       "      <td>0.233021</td>\n",
       "      <td>4</td>\n",
       "    </tr>\n",
       "    <tr>\n",
       "      <th>...</th>\n",
       "      <td>...</td>\n",
       "      <td>...</td>\n",
       "      <td>...</td>\n",
       "    </tr>\n",
       "    <tr>\n",
       "      <th>995</th>\n",
       "      <td>33854</td>\n",
       "      <td>0.546518</td>\n",
       "      <td>995</td>\n",
       "    </tr>\n",
       "    <tr>\n",
       "      <th>996</th>\n",
       "      <td>33888</td>\n",
       "      <td>0.275927</td>\n",
       "      <td>996</td>\n",
       "    </tr>\n",
       "    <tr>\n",
       "      <th>997</th>\n",
       "      <td>33922</td>\n",
       "      <td>0.616222</td>\n",
       "      <td>997</td>\n",
       "    </tr>\n",
       "    <tr>\n",
       "      <th>998</th>\n",
       "      <td>33956</td>\n",
       "      <td>0.402319</td>\n",
       "      <td>998</td>\n",
       "    </tr>\n",
       "    <tr>\n",
       "      <th>999</th>\n",
       "      <td>33990</td>\n",
       "      <td>0.522136</td>\n",
       "      <td>999</td>\n",
       "    </tr>\n",
       "  </tbody>\n",
       "</table>\n",
       "<p>1000 rows × 3 columns</p>\n",
       "</div>"
      ]
     },
     "execution_count": 60,
     "metadata": {},
     "output_type": "execute_result"
    }
   ],
   "execution_count": 60
  },
  {
   "metadata": {
    "ExecuteTime": {
     "end_time": "2024-06-05T19:11:34.945326Z",
     "start_time": "2024-06-05T19:11:34.819120Z"
    }
   },
   "cell_type": "code",
   "source": [
    "sns.lineplot(data=reward_df, x=\"Episode\", y=\"Reward\", estimator=\"mean\")\n",
    "plt.title(\"Episode Reward\")\n",
    "plt.ylabel(\"Episode Reward\")\n",
    "plt.xlabel(\"Episode\")\n",
    "plt.savefig(\"reward.png\")\n",
    "# plt.show()"
   ],
   "id": "c047b558bb696ecc",
   "outputs": [
    {
     "data": {
      "text/plain": [
       "<Figure size 640x480 with 1 Axes>"
      ],
      "image/png": "[encoded data removed]"
     },
     "metadata": {},
     "output_type": "display_data"
    }
   ],
   "execution_count": 64
  },
  {
   "metadata": {
    "ExecuteTime": {
     "end_time": "2024-06-05T19:46:12.516471Z",
     "start_time": "2024-06-05T19:46:12.512802Z"
    }
   },
   "cell_type": "code",
   "source": [
    "smiles_df = pd.read_csv('result_smiles.csv', sep=';')\n",
    "smiles_df"
   ],
   "id": "e99bb731f5a27052",
   "outputs": [
    {
     "data": {
      "text/plain": [
       "     Reward                                     Smiles\n",
       "0  0.811741      C=C1C(=C)N1Cc1o[nH]c1-c1c[nH]on(C)cn1\n",
       "1  0.745750  COC1(C)C2(N=C3C=CN32)C(=O)C1(N=O)n1[nH]o1\n",
       "2  0.706268              CC1=C(O)NC1C12OCOC1(C)n1onc12\n",
       "3  0.748589       C=CN=C1C(=N)C(CN=C)N1C1=NOC2=C(C2)O1\n",
       "4  0.711395                   CC(O)=CCOc1[nH]oc1OC1CC1\n",
       "5  0.815499        C=Cc1c[nH]c(C2C3=CC(=C3N)C(C)C2C)n1\n",
       "6  0.753985            C=C1N=NN(C2CC=N2)N2C(O)C(CC)C12\n",
       "7  0.762799             CC1N=C(OC(C)c2c#c[nH]c2)N(O)O1\n",
       "8  0.844276       CCC(CC)C1(O)CC2=NC(O1)C1=NC(C)=CON21\n",
       "9  0.833951    C=C(C)C1=CC2=COCNC3(OC)N=NC(O2)(O3)C1=C"
      ],
      "text/html": [
       "<div>\n",
       "<style scoped>\n",
       "    .dataframe tbody tr th:only-of-type {\n",
       "        vertical-align: middle;\n",
       "    }\n",
       "\n",
       "    .dataframe tbody tr th {\n",
       "        vertical-align: top;\n",
       "    }\n",
       "\n",
       "    .dataframe thead th {\n",
       "        text-align: right;\n",
       "    }\n",
       "</style>\n",
       "<table border=\"1\" class=\"dataframe\">\n",
       "  <thead>\n",
       "    <tr style=\"text-align: right;\">\n",
       "      <th></th>\n",
       "      <th>Reward</th>\n",
       "      <th>Smiles</th>\n",
       "    </tr>\n",
       "  </thead>\n",
       "  <tbody>\n",
       "    <tr>\n",
       "      <th>0</th>\n",
       "      <td>0.811741</td>\n",
       "      <td>C=C1C(=C)N1Cc1o[nH]c1-c1c[nH]on(C)cn1</td>\n",
       "    </tr>\n",
       "    <tr>\n",
       "      <th>1</th>\n",
       "      <td>0.745750</td>\n",
       "      <td>COC1(C)C2(N=C3C=CN32)C(=O)C1(N=O)n1[nH]o1</td>\n",
       "    </tr>\n",
       "    <tr>\n",
       "      <th>2</th>\n",
       "      <td>0.706268</td>\n",
       "      <td>CC1=C(O)NC1C12OCOC1(C)n1onc12</td>\n",
       "    </tr>\n",
       "    <tr>\n",
       "      <th>3</th>\n",
       "      <td>0.748589</td>\n",
       "      <td>C=CN=C1C(=N)C(CN=C)N1C1=NOC2=C(C2)O1</td>\n",
       "    </tr>\n",
       "    <tr>\n",
       "      <th>4</th>\n",
       "      <td>0.711395</td>\n",
       "      <td>CC(O)=CCOc1[nH]oc1OC1CC1</td>\n",
       "    </tr>\n",
       "    <tr>\n",
       "      <th>5</th>\n",
       "      <td>0.815499</td>\n",
       "      <td>C=Cc1c[nH]c(C2C3=CC(=C3N)C(C)C2C)n1</td>\n",
       "    </tr>\n",
       "    <tr>\n",
       "      <th>6</th>\n",
       "      <td>0.753985</td>\n",
       "      <td>C=C1N=NN(C2CC=N2)N2C(O)C(CC)C12</td>\n",
       "    </tr>\n",
       "    <tr>\n",
       "      <th>7</th>\n",
       "      <td>0.762799</td>\n",
       "      <td>CC1N=C(OC(C)c2c#c[nH]c2)N(O)O1</td>\n",
       "    </tr>\n",
       "    <tr>\n",
       "      <th>8</th>\n",
       "      <td>0.844276</td>\n",
       "      <td>CCC(CC)C1(O)CC2=NC(O1)C1=NC(C)=CON21</td>\n",
       "    </tr>\n",
       "    <tr>\n",
       "      <th>9</th>\n",
       "      <td>0.833951</td>\n",
       "      <td>C=C(C)C1=CC2=COCNC3(OC)N=NC(O2)(O3)C1=C</td>\n",
       "    </tr>\n",
       "  </tbody>\n",
       "</table>\n",
       "</div>"
      ]
     },
     "execution_count": 66,
     "metadata": {},
     "output_type": "execute_result"
    }
   ],
   "execution_count": 66
  },
  {
   "metadata": {
    "ExecuteTime": {
     "end_time": "2024-06-05T19:46:45.103720Z",
     "start_time": "2024-06-05T19:46:45.098555Z"
    }
   },
   "cell_type": "code",
   "source": [
    "molecules = [Chem.MolFromSmiles(smile) for smile in smiles_df[\"Smiles\"].values]\n",
    "molecules"
   ],
   "id": "a8ae09dd094660e5",
   "outputs": [
    {
     "data": {
      "text/plain": [
       "[<rdkit.Chem.rdchem.Mol at 0x31583c120>,\n",
       " <rdkit.Chem.rdchem.Mol at 0x31583d230>,\n",
       " <rdkit.Chem.rdchem.Mol at 0x31583d1c0>,\n",
       " <rdkit.Chem.rdchem.Mol at 0x3155969d0>,\n",
       " <rdkit.Chem.rdchem.Mol at 0x315596f10>,\n",
       " <rdkit.Chem.rdchem.Mol at 0x315596d50>,\n",
       " <rdkit.Chem.rdchem.Mol at 0x315596650>,\n",
       " <rdkit.Chem.rdchem.Mol at 0x315596b90>,\n",
       " <rdkit.Chem.rdchem.Mol at 0x315596c70>,\n",
       " <rdkit.Chem.rdchem.Mol at 0x3155957e0>]"
      ]
     },
     "execution_count": 67,
     "metadata": {},
     "output_type": "execute_result"
    }
   ],
   "execution_count": 67
  },
  {
   "metadata": {
    "ExecuteTime": {
     "end_time": "2024-06-05T19:49:35.946386Z",
     "start_time": "2024-06-05T19:49:35.746705Z"
    }
   },
   "cell_type": "code",
   "source": [
    "from rdkit.Chem import Descriptors\n",
    "logps = [Descriptors.MolLogP(curr_mol) for curr_mol in molecules]\n",
    "Chem.Draw.MolsToGridImage(molecules[:10], molsPerRow=5, subImgSize=(400,400),\n",
    "                             legends=[f'LogP: {round(logp, 2)}\\nQED: {round(qed, 2)}' for logp, qed in zip(logps, smiles_df[\"Reward\"])], \n",
    "                             returnPNG=False).save(\"smiles_grid.png\")"
   ],
   "id": "3a281cd13078a00a",
   "outputs": [],
   "execution_count": 68
  },
  {
   "metadata": {},
   "cell_type": "code",
   "outputs": [],
   "execution_count": null,
   "source": "",
   "id": "4f0278f0fbf78418"
  }
 ],
 "metadata": {
  "kernelspec": {
   "display_name": "Python 3",
   "language": "python",
   "name": "python3"
  },
  "language_info": {
   "codemirror_mode": {
    "name": "ipython",
    "version": 2
   },
   "file_extension": ".py",
   "mimetype": "text/x-python",
   "name": "python",
   "nbconvert_exporter": "python",
   "pygments_lexer": "ipython2",
   "version": "2.7.6"
  }
 },
 "nbformat": 4,
 "nbformat_minor": 5
}
